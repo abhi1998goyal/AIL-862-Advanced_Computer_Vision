{
 "cells": [
  {
   "cell_type": "code",
   "execution_count": 11,
   "metadata": {},
   "outputs": [
    {
     "data": {
      "text/plain": [
       "True"
      ]
     },
     "execution_count": 11,
     "metadata": {},
     "output_type": "execute_result"
    }
   ],
   "source": [
    "import cv2\n",
    "import matplotlib.pyplot as plt\n",
    "image = cv2.imread(\"/home/SCV/data/6_processed.png\")\n",
    "\n",
    "median_filtered = cv2.medianBlur(image, 3) \n",
    "\n",
    "output_path = \"/home/SCV/data/6_processed.png\"  \n",
    "cv2.imwrite(output_path, median_filtered)"
   ]
  }
 ],
 "metadata": {
  "kernelspec": {
   "display_name": "scv",
   "language": "python",
   "name": "python3"
  },
  "language_info": {
   "codemirror_mode": {
    "name": "ipython",
    "version": 3
   },
   "file_extension": ".py",
   "mimetype": "text/x-python",
   "name": "python",
   "nbconvert_exporter": "python",
   "pygments_lexer": "ipython3",
   "version": "3.9.21"
  }
 },
 "nbformat": 4,
 "nbformat_minor": 2
}
