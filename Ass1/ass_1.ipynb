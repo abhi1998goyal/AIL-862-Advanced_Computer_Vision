{
 "cells": [
  {
   "cell_type": "code",
   "execution_count": null,
   "metadata": {},
   "outputs": [],
   "source": [
    "# preprocessing file having salt pepper noise (image no - 4,5,6)\n",
    "import cv2\n",
    "import matplotlib.pyplot as plt\n",
    "image = cv2.imread(\"/home/SCV/data/4.png\")\n",
    "\n",
    "median_filtered = cv2.medianBlur(image, 3) \n",
    "median_filtered = cv2.medianBlur(median_filtered, 3) \n",
    "\n",
    "output_path = \"/home/SCV/data/4_processed.png\"  \n",
    "cv2.imwrite(output_path, median_filtered)"
   ]
  },
  {
   "cell_type": "code",
   "execution_count": null,
   "metadata": {},
   "outputs": [
    {
     "name": "stdout",
     "output_type": "stream",
     "text": [
      "0.0\n"
     ]
    }
   ],
   "source": [
    "#similarity code\n",
    "import cv2\n",
    "\n",
    "# filtering kkeypoints on basis of best response , choosing best 100. Keypoint object has location, scale, response, orientation\n",
    "def filter_keypts_on_response(keypts,desc):\n",
    "    sorted_indices = sorted(range(len(keypts)), key=lambda i: keypts[i].response, reverse=True)\n",
    "    top_indices = sorted_indices[:100]\n",
    "    return [keypts[i] for i in top_indices], desc[top_indices]\n",
    "   \n",
    "# getting matches on descriptors of both images and get best matches out of total 100 keypoints\n",
    "def get_matches(img1,img2):\n",
    "    sift = cv2.SIFT_create()\n",
    "    keypt1, desc1 = sift.detectAndCompute(img1, None)\n",
    "    keypt2, desc2 = sift.detectAndCompute(img2, None)\n",
    "    keypt1,desc1=filter_keypts_on_response(keypt1,desc1)\n",
    "    keypt2, desc2 = filter_keypts_on_response(keypt2, desc2)\n",
    "    bf = cv2.BFMatcher(cv2.NORM_L2) \n",
    "    matches = bf.knnMatch(desc1, desc2, k=2)\n",
    "\n",
    "    good_matches = []\n",
    "    for m, n in matches:\n",
    "        if m.distance <  0.75* n.distance  and m.distance < 100: \n",
    "            good_matches.append(m)\n",
    "\n",
    "    final_matches = sorted(good_matches, key=lambda x: x.distance)\n",
    "    return final_matches\n",
    "    \n",
    "# simlarity score = no of keypoints matched / no of keypoints in an image\n",
    "def similarity(img1_pth,img2_pth):\n",
    "    img1 = cv2.imread(img1_pth, cv2.IMREAD_GRAYSCALE)\n",
    "    img2 = cv2.imread(img2_pth, cv2.IMREAD_GRAYSCALE)\n",
    "    sim = len(get_matches(img1,img2))/100.0\n",
    "    return sim\n",
    "    \n",
    "print(similarity( \"/home/SCV/data/1.png\", \"/home/SCV/data/4_processed.png\"))"
   ]
  }
 ],
 "metadata": {
  "kernelspec": {
   "display_name": "scv",
   "language": "python",
   "name": "python3"
  },
  "language_info": {
   "codemirror_mode": {
    "name": "ipython",
    "version": 3
   },
   "file_extension": ".py",
   "mimetype": "text/x-python",
   "name": "python",
   "nbconvert_exporter": "python",
   "pygments_lexer": "ipython3",
   "version": "3.9.21"
  }
 },
 "nbformat": 4,
 "nbformat_minor": 2
}
