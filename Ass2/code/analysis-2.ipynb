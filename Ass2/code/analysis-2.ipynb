{
 "cells": [
  {
   "cell_type": "code",
   "execution_count": 1,
   "metadata": {
    "execution": {
     "iopub.execute_input": "2025-02-02T09:47:11.907785Z",
     "iopub.status.busy": "2025-02-02T09:47:11.907371Z",
     "iopub.status.idle": "2025-02-02T09:47:21.079299Z",
     "shell.execute_reply": "2025-02-02T09:47:21.078646Z",
     "shell.execute_reply.started": "2025-02-02T09:47:11.907740Z"
    },
    "trusted": true
   },
   "outputs": [],
   "source": [
    "import torch\n",
    "import torch.nn as nn\n",
    "import torch.optim as optim\n",
    "import torchvision.transforms as transforms\n",
    "import torchvision.datasets as datasets\n",
    "from torch.utils.data import DataLoader, Subset\n",
    "import random\n",
    "import numpy as np\n",
    "import copy\n",
    "import matplotlib.pyplot as plt\n",
    "from sklearn.model_selection import train_test_split\n",
    "import timm"
   ]
  },
  {
   "cell_type": "code",
   "execution_count": 2,
   "metadata": {
    "execution": {
     "iopub.execute_input": "2025-02-02T09:47:26.833293Z",
     "iopub.status.busy": "2025-02-02T09:47:26.832998Z",
     "iopub.status.idle": "2025-02-02T09:47:33.096691Z",
     "shell.execute_reply": "2025-02-02T09:47:33.095956Z",
     "shell.execute_reply.started": "2025-02-02T09:47:26.833268Z"
    },
    "trusted": true
   },
   "outputs": [
    {
     "name": "stdout",
     "output_type": "stream",
     "text": [
      "Total samples: 2100\n",
      "Train set size: 1680\n",
      "Test set size: 420\n"
     ]
    }
   ],
   "source": [
    "dataset_path = \"/kaggle/input/ucmerced/UCMercedDatasetOriginal/Images\"\n",
    "\n",
    "transform = transforms.Compose([\n",
    "    transforms.Resize((224, 224)),\n",
    "    transforms.ToTensor(),\n",
    "    transforms.Normalize(mean=[0.485, 0.456, 0.406], std=[0.229, 0.224, 0.225])\n",
    "])\n",
    "\n",
    "full_dataset = datasets.ImageFolder(root=dataset_path, transform=transform)\n",
    "\n",
    "train_idx, test_idx = train_test_split(\n",
    "    range(len(full_dataset)), test_size=0.2, random_state=42,\n",
    "    stratify=[label for _, label in full_dataset.samples]\n",
    ")\n",
    "\n",
    "train_set = Subset(full_dataset, train_idx)\n",
    "test_set = Subset(full_dataset, test_idx)\n",
    "\n",
    "batch_size = 32\n",
    "test_loader = DataLoader(test_set, batch_size=batch_size, shuffle=False)\n",
    "\n",
    "print(f\"Total samples: {len(full_dataset)}\")\n",
    "print(f\"Train set size: {len(train_set)}\")\n",
    "print(f\"Test set size: {len(test_set)}\")\n"
   ]
  },
  {
   "cell_type": "code",
   "execution_count": 3,
   "metadata": {
    "execution": {
     "iopub.execute_input": "2025-02-02T09:49:26.123132Z",
     "iopub.status.busy": "2025-02-02T09:49:26.122610Z",
     "iopub.status.idle": "2025-02-02T09:49:26.128965Z",
     "shell.execute_reply": "2025-02-02T09:49:26.128097Z",
     "shell.execute_reply.started": "2025-02-02T09:49:26.123090Z"
    },
    "trusted": true
   },
   "outputs": [],
   "source": [
    "def add_label_noise(dataset, noise_level=0.3):\n",
    "    dataset_noisy = copy.deepcopy(dataset)\n",
    "    num_samples = len(dataset_noisy.dataset.samples)\n",
    "    num_noisy = int(noise_level * num_samples)\n",
    "\n",
    "    indices = random.sample(range(num_samples), num_noisy)\n",
    "    class_count = len(dataset_noisy.dataset.classes)\n",
    "\n",
    "    for idx in indices:\n",
    "        _, old_label = dataset_noisy.dataset.samples[idx]\n",
    "        new_label = random.randint(0, class_count - 1)\n",
    "        while new_label == old_label:\n",
    "            new_label = random.randint(0, class_count - 1)\n",
    "        dataset_noisy.dataset.samples[idx] = (dataset_noisy.dataset.samples[idx][0], new_label)\n",
    "\n",
    "    return dataset_noisy\n"
   ]
  },
  {
   "cell_type": "code",
   "execution_count": 4,
   "metadata": {
    "execution": {
     "iopub.execute_input": "2025-02-02T09:49:31.194330Z",
     "iopub.status.busy": "2025-02-02T09:49:31.194047Z",
     "iopub.status.idle": "2025-02-02T09:49:31.246581Z",
     "shell.execute_reply": "2025-02-02T09:49:31.245779Z",
     "shell.execute_reply.started": "2025-02-02T09:49:31.194308Z"
    },
    "trusted": true
   },
   "outputs": [],
   "source": [
    "class EfficientNetB0(nn.Module):\n",
    "    def __init__(self, num_classes=21):\n",
    "        super(EfficientNetB0, self).__init__()\n",
    "        self.encoder = timm.create_model(\"efficientnet_b0\", pretrained=True, num_classes=num_classes)\n",
    "\n",
    "    def forward(self, x):\n",
    "        return self.encoder(x)\n",
    "\n",
    "device = torch.device(\"cuda\" if torch.cuda.is_available() else \"cpu\")\n"
   ]
  },
  {
   "cell_type": "code",
   "execution_count": null,
   "metadata": {},
   "outputs": [],
   "source": [
    "def test_model(model, test_loader):\n",
    "    model.eval()\n",
    "    correct, total = 0, 0\n",
    "    with torch.no_grad():\n",
    "        for images, labels in test_loader:\n",
    "            images, labels = images.to(device), labels.to(device)\n",
    "            outputs = model(images)\n",
    "            _, predicted = torch.max(outputs, 1)\n",
    "            correct += (predicted == labels).sum().item()\n",
    "            total += labels.size(0)\n",
    "    test_acc = 100 * correct / total\n",
    "    print(f\"\\nTest Accuracy: {test_acc:.2f}%\\n\")\n",
    "    return test_acc\n"
   ]
  },
  {
   "cell_type": "code",
   "execution_count": 5,
   "metadata": {
    "execution": {
     "iopub.execute_input": "2025-02-02T09:49:35.080514Z",
     "iopub.status.busy": "2025-02-02T09:49:35.080222Z",
     "iopub.status.idle": "2025-02-02T09:49:35.087183Z",
     "shell.execute_reply": "2025-02-02T09:49:35.086101Z",
     "shell.execute_reply.started": "2025-02-02T09:49:35.080491Z"
    },
    "trusted": true
   },
   "outputs": [],
   "source": [
    "def train_model(model, train_loader, test_loader, epochs=5):\n",
    "    model.to(device)\n",
    "    criterion = nn.CrossEntropyLoss()\n",
    "    optimizer = optim.AdamW(model.parameters(), lr=1e-3, weight_decay=0.05)\n",
    "\n",
    "    for epoch in range(epochs):\n",
    "        model.train()\n",
    "        total_loss, correct, total = 0.0, 0, 0\n",
    "\n",
    "        for images, labels in train_loader:\n",
    "            images, labels = images.to(device), labels.to(device)\n",
    "\n",
    "            optimizer.zero_grad()\n",
    "            outputs = model(images)\n",
    "            loss = criterion(outputs, labels)\n",
    "            loss.backward()\n",
    "            optimizer.step()\n",
    "\n",
    "            total_loss += loss.item()\n",
    "            _, predicted = torch.max(outputs, 1)\n",
    "            correct += (predicted == labels).sum().item()\n",
    "            total += labels.size(0)\n",
    "\n",
    "        train_acc = 100 * correct / total\n",
    "        print(f\"Epoch [{epoch+1}/{epochs}] - Loss: {total_loss:.4f} - Train Accuracy: {train_acc:.2f}%\")\n",
    "\n",
    "    return test_model(model, test_loader)\n"
   ]
  },
  {
   "cell_type": "code",
   "execution_count": 7,
   "metadata": {
    "execution": {
     "iopub.execute_input": "2025-02-02T09:49:43.567188Z",
     "iopub.status.busy": "2025-02-02T09:49:43.566881Z",
     "iopub.status.idle": "2025-02-02T09:54:38.492553Z",
     "shell.execute_reply": "2025-02-02T09:54:38.491832Z",
     "shell.execute_reply.started": "2025-02-02T09:49:43.567165Z"
    },
    "trusted": true
   },
   "outputs": [
    {
     "name": "stdout",
     "output_type": "stream",
     "text": [
      "\n",
      "Training EfficientNet-B0 with 30% label noise...\n",
      "\n"
     ]
    },
    {
     "data": {
      "application/vnd.jupyter.widget-view+json": {
       "model_id": "8c7a0f8e0d8f4053bf2de8c2914fea7f",
       "version_major": 2,
       "version_minor": 0
      },
      "text/plain": [
       "model.safetensors:   0%|          | 0.00/21.4M [00:00<?, ?B/s]"
      ]
     },
     "metadata": {},
     "output_type": "display_data"
    },
    {
     "name": "stdout",
     "output_type": "stream",
     "text": [
      "Epoch [1/5] - Loss: 140.5447 - Train Accuracy: 39.40%\n",
      "Epoch [2/5] - Loss: 74.0976 - Train Accuracy: 65.18%\n",
      "Epoch [3/5] - Loss: 42.9878 - Train Accuracy: 77.98%\n",
      "Epoch [4/5] - Loss: 23.8700 - Train Accuracy: 87.62%\n",
      "Epoch [5/5] - Loss: 12.6453 - Train Accuracy: 93.45%\n",
      "\n",
      "Test Accuracy: 71.90%\n",
      "\n",
      "\n",
      "Training EfficientNet-B0 with 40% label noise...\n",
      "\n",
      "Epoch [1/5] - Loss: 155.1950 - Train Accuracy: 32.14%\n",
      "Epoch [2/5] - Loss: 84.2883 - Train Accuracy: 57.98%\n",
      "Epoch [3/5] - Loss: 46.9872 - Train Accuracy: 74.58%\n",
      "Epoch [4/5] - Loss: 30.0534 - Train Accuracy: 83.81%\n",
      "Epoch [5/5] - Loss: 17.4212 - Train Accuracy: 91.37%\n",
      "\n",
      "Test Accuracy: 66.19%\n",
      "\n",
      "\n",
      "Training EfficientNet-B0 with 50% label noise...\n",
      "\n",
      "Epoch [1/5] - Loss: 164.6989 - Train Accuracy: 24.82%\n",
      "Epoch [2/5] - Loss: 95.7123 - Train Accuracy: 51.67%\n",
      "Epoch [3/5] - Loss: 52.5925 - Train Accuracy: 71.61%\n",
      "Epoch [4/5] - Loss: 27.5572 - Train Accuracy: 85.18%\n",
      "Epoch [5/5] - Loss: 16.4183 - Train Accuracy: 91.61%\n",
      "\n",
      "Test Accuracy: 56.67%\n",
      "\n",
      "\n",
      "Training EfficientNet-B0 with 60% label noise...\n",
      "\n",
      "Epoch [1/5] - Loss: 177.8288 - Train Accuracy: 13.45%\n",
      "Epoch [2/5] - Loss: 122.6668 - Train Accuracy: 36.49%\n",
      "Epoch [3/5] - Loss: 82.9748 - Train Accuracy: 56.01%\n",
      "Epoch [4/5] - Loss: 44.8050 - Train Accuracy: 75.06%\n",
      "Epoch [5/5] - Loss: 28.2580 - Train Accuracy: 85.18%\n",
      "\n",
      "Test Accuracy: 44.76%\n",
      "\n",
      "\n",
      "Training EfficientNet-B0 with 80% label noise...\n",
      "\n",
      "Epoch [1/5] - Loss: 184.5291 - Train Accuracy: 5.60%\n",
      "Epoch [2/5] - Loss: 139.8314 - Train Accuracy: 23.81%\n",
      "Epoch [3/5] - Loss: 102.4982 - Train Accuracy: 46.85%\n",
      "Epoch [4/5] - Loss: 58.8511 - Train Accuracy: 67.44%\n",
      "Epoch [5/5] - Loss: 33.4657 - Train Accuracy: 82.62%\n",
      "\n",
      "Test Accuracy: 25.48%\n",
      "\n",
      "Noise Level: 30% - Test Accuracy: 71.90%\n",
      "Noise Level: 40% - Test Accuracy: 66.19%\n",
      "Noise Level: 50% - Test Accuracy: 56.67%\n",
      "Noise Level: 60% - Test Accuracy: 44.76%\n",
      "Noise Level: 80% - Test Accuracy: 25.48%\n"
     ]
    }
   ],
   "source": [
    "noise_levels = [30, 40, 50, 60, 80]\n",
    "accuracies = []\n",
    "\n",
    "for noise in noise_levels:\n",
    "    print(f\"\\nTraining EfficientNet-B0 with {noise}% label noise...\\n\")  \n",
    "    train_set_noisy = add_label_noise(train_set, noise_level=noise/100)\n",
    "    train_loader_noisy = DataLoader(train_set_noisy, batch_size=batch_size, shuffle=True)\n",
    "    model = EfficientNetB0(num_classes=len(full_dataset.classes))\n",
    "    acc = train_model(model, train_loader_noisy, test_loader, epochs=5)\n",
    "    accuracies.append(acc)\n",
    "\n",
    "for noise, acc in zip(noise_levels, accuracies):\n",
    "    print(f\"Noise Level: {noise}% - Test Accuracy: {acc:.2f}%\")\n"
   ]
  },
  {
   "cell_type": "code",
   "execution_count": 8,
   "metadata": {
    "execution": {
     "iopub.execute_input": "2025-02-02T09:56:17.477849Z",
     "iopub.status.busy": "2025-02-02T09:56:17.477505Z",
     "iopub.status.idle": "2025-02-02T09:56:17.735319Z",
     "shell.execute_reply": "2025-02-02T09:56:17.734380Z",
     "shell.execute_reply.started": "2025-02-02T09:56:17.477823Z"
    },
    "trusted": true
   },
   "outputs": [
    {
     "data": {
      "image/png": "[encoded data removed]",
      "text/plain": [
       "<Figure size 800x600 with 1 Axes>"
      ]
     },
     "metadata": {},
     "output_type": "display_data"
    }
   ],
   "source": [
    "plt.figure(figsize=(8, 6))\n",
    "plt.plot(noise_levels, accuracies, marker='o', linestyle='-', color='b', label=\"EfficientNet-B0\")\n",
    "plt.xlabel(\"Label Noise (%)\")\n",
    "plt.ylabel(\"Test Accuracy (%)\")\n",
    "plt.title(\"EfficientNet-B0 Accuracy\")\n",
    "plt.legend()\n",
    "plt.grid(True)\n",
    "plt.show()"
   ]
  }
 ],
 "metadata": {
  "kaggle": {
   "accelerator": "gpu",
   "dataSources": [
    {
     "datasetId": 6581568,
     "sourceId": 10629672,
     "sourceType": "datasetVersion"
    }
   ],
   "dockerImageVersionId": 30840,
   "isGpuEnabled": true,
   "isInternetEnabled": true,
   "language": "python",
   "sourceType": "notebook"
  },
  "kernelspec": {
   "display_name": "Python 3",
   "language": "python",
   "name": "python3"
  },
  "language_info": {
   "codemirror_mode": {
    "name": "ipython",
    "version": 3
   },
   "file_extension": ".py",
   "mimetype": "text/x-python",
   "name": "python",
   "nbconvert_exporter": "python",
   "pygments_lexer": "ipython3",
   "version": "3.10.12"
  }
 },
 "nbformat": 4,
 "nbformat_minor": 4
}
