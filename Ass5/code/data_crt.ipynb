{
 "cells": [
  {
   "cell_type": "code",
   "execution_count": 2,
   "metadata": {},
   "outputs": [
    {
     "name": "stdout",
     "output_type": "stream",
     "text": [
      "Item A image and mask copied to: /home/scai/phd/aiz218323/scratch/abhishek_rl/scv/a5/processed_data/A\n"
     ]
    }
   ],
   "source": [
    "import os\n",
    "import shutil\n",
    "\n",
    "item_A_id = '2008_000336'\n",
    "img_src  = f\"/home/scai/phd/aiz218323/scratch/abhishek_rl/scv/a5/data/VOC2012_train_val/VOC2012_train_val/JPEGImages/{item_A_id}.jpg\"\n",
    "mask_src = f\"/home/scai/phd/aiz218323/scratch/abhishek_rl/scv/a5/data/VOC2012_train_val/VOC2012_train_val/SegmentationClass/{item_A_id}.png\"\n",
    "dest_dir = \"/home/scai/phd/aiz218323/scratch/abhishek_rl/scv/a5/processed_data/A\"\n",
    "os.makedirs(dest_dir, exist_ok=True)\n",
    "\n",
    "# Destination file paths\n",
    "img_dst = os.path.join(dest_dir, f\"{item_A_id}.jpg\")\n",
    "mask_dst = os.path.join(dest_dir, f\"{item_A_id}.png\")\n",
    "\n",
    "# Copy files\n",
    "shutil.copy(img_src, img_dst)\n",
    "shutil.copy(mask_src, mask_dst)\n",
    "\n",
    "print(\"Item A image and mask copied to:\", dest_dir)"
   ]
  },
  {
   "cell_type": "code",
   "execution_count": 3,
   "metadata": {},
   "outputs": [
    {
     "name": "stdout",
     "output_type": "stream",
     "text": [
      "dog     → 631 images\n",
      "bus     → 213 images\n",
      "chair   → 566 images\n",
      "tvmonitor → 290 images\n",
      "sofa    → 257 images\n",
      "\n",
      " Total unique images across all selected classes: 1704\n"
     ]
    }
   ],
   "source": [
    "from pathlib import Path\n",
    "from collections import defaultdict\n",
    "\n",
    "# VOC directory\n",
    "voc_base = Path(\"/home/scai/phd/aiz218323/scratch/abhishek_rl/scv/a5/data/VOC2012_train_val/VOC2012_train_val\")\n",
    "main_dir = voc_base / \"ImageSets\" / \"Main\"\n",
    "\n",
    "# Item A image ID\n",
    "item_A_id = \"2008_000336\"\n",
    "\n",
    "# Classes you care about\n",
    "selected_classes = [\"dog\", \"bus\", \"chair\", \"tvmonitor\", \"sofa\"]\n",
    "\n",
    "# Map from class name → list of image IDs\n",
    "class_to_images = defaultdict(list)\n",
    "\n",
    "# Build mapping\n",
    "for cls in selected_classes:\n",
    "    with open(main_dir / f\"{cls}_train.txt\", \"r\") as f:\n",
    "        for line in f:\n",
    "            img_id, label = line.strip().split()\n",
    "            if label == \"1\" and img_id != item_A_id:\n",
    "                class_to_images[cls].append(img_id)\n",
    "\n",
    "# Unique image IDs across all selected classes\n",
    "all_image_ids = sorted(set(id for ids in class_to_images.values() for id in ids))\n",
    "\n",
    "# Print summary\n",
    "for cls in selected_classes:\n",
    "    print(f\"{cls:<7} → {len(class_to_images[cls])} images\")\n",
    "\n",
    "print(f\"\\n Total unique images across all selected classes: {len(all_image_ids)}\")\n"
   ]
  },
  {
   "cell_type": "code",
   "execution_count": 4,
   "metadata": {},
   "outputs": [
    {
     "name": "stdout",
     "output_type": "stream",
     "text": [
      "Total images in C: 800 (400 dog + 400 non-dog)\n"
     ]
    }
   ],
   "source": [
    "import random\n",
    "\n",
    "# Previously built map: class_to_images\n",
    "dog_images = class_to_images[\"dog\"]\n",
    "non_dog_images = sorted(set().union(\n",
    "    *[class_to_images[c] for c in selected_classes if c != \"dog\"]\n",
    "))\n",
    "\n",
    "# Randomly sample 150 from each\n",
    "random.seed(42)\n",
    "dog_sample = random.sample(dog_images, 400)\n",
    "non_dog_sample = random.sample(non_dog_images, 400)\n",
    "\n",
    "# Combined C set\n",
    "C_ids = sorted(dog_sample + non_dog_sample)\n",
    "print(f\"Total images in C: {len(C_ids)} (400 dog + 400 non-dog)\")"
   ]
  },
  {
   "cell_type": "code",
   "execution_count": 5,
   "metadata": {},
   "outputs": [
    {
     "name": "stdout",
     "output_type": "stream",
     "text": [
      "All C images copied to: /home/scai/phd/aiz218323/scratch/abhishek_rl/scv/a5/processed_data/C\n"
     ]
    }
   ],
   "source": [
    "import os\n",
    "import shutil\n",
    "from pathlib import Path\n",
    "\n",
    "voc_img_dir = Path(\"/home/scai/phd/aiz218323/scratch/abhishek_rl/scv/a5/data/VOC2012_train_val/VOC2012_train_val/JPEGImages\")\n",
    "dst_dir = Path(\"/home/scai/phd/aiz218323/scratch/abhishek_rl/scv/a5/processed_data/C\")\n",
    "dst_dir.mkdir(parents=True, exist_ok=True)\n",
    "\n",
    "for img_id in C_ids:\n",
    "    src = voc_img_dir / f\"{img_id}.jpg\"\n",
    "    dst = dst_dir / f\"{img_id}.jpg\"\n",
    "    shutil.copy(src, dst)\n",
    "\n",
    "print(\"All C images copied to:\", dst_dir)"
   ]
  },
  {
   "cell_type": "code",
   "execution_count": 7,
   "metadata": {},
   "outputs": [
    {
     "name": "stdout",
     "output_type": "stream",
     "text": [
      "Total images in C′: 300\n",
      "Dog images: 298\n",
      "Non-dog images: 2\n"
     ]
    }
   ],
   "source": [
    "from pathlib import Path\n",
    "import os\n",
    "# Paths\n",
    "C_prime_dir = \"/home/scai/phd/aiz218323/scratch/abhishek_rl/scv/a5/processed_data/C_prime\"\n",
    "dog_list_file = \"/home/scai/phd/aiz218323/scratch/abhishek_rl/scv/a5/data/VOC2012_train_val/VOC2012_train_val/ImageSets/Main/dog_train.txt\"\n",
    "\n",
    "# Load dog image label map from VOC\n",
    "dog_id_map = {}\n",
    "with open(dog_list_file, \"r\") as f:\n",
    "    for line in f:\n",
    "        img_id, label = line.strip().split()\n",
    "        dog_id_map[img_id] = int(label)\n",
    "\n",
    "# Check how many in C′ are dog images\n",
    "C_prime_ids = [f[:-4] for f in os.listdir(C_prime_dir) if f.endswith(\".jpg\")]\n",
    "\n",
    "dog_count = sum(1 for img_id in C_prime_ids if dog_id_map.get(img_id, -1) == 1)\n",
    "non_dog_count = len(C_prime_ids) - dog_count\n",
    "\n",
    "print(f\"Total images in C′: {len(C_prime_ids)}\")\n",
    "print(f\"Dog images: {dog_count}\")\n",
    "print(f\"Non-dog images: {non_dog_count}\")\n"
   ]
  },
  {
   "cell_type": "code",
   "execution_count": 10,
   "metadata": {},
   "outputs": [
    {
     "name": "stdout",
     "output_type": "stream",
     "text": [
      "Selected 101 dog images for test set D\n"
     ]
    }
   ],
   "source": [
    "from pathlib import Path\n",
    "\n",
    "base_path = Path(\"/home/scai/phd/aiz218323/scratch/abhishek_rl/scv/a5/data/VOC2012_train_val/VOC2012_train_val\")\n",
    "val_ids_path = base_path / \"ImageSets/Segmentation/val.txt\"\n",
    "dog_val_path = base_path / \"ImageSets/Main/dog_val.txt\"\n",
    "\n",
    "# Load validation set image IDs\n",
    "with open(val_ids_path, \"r\") as f:\n",
    "    val_ids = set(line.strip() for line in f)\n",
    "\n",
    "# Load dog presence labels\n",
    "dog_ids = []\n",
    "with open(dog_val_path, \"r\") as f:\n",
    "    for line in f:\n",
    "        img_id, label = line.strip().split()\n",
    "        if img_id in val_ids and label == \"1\":\n",
    "            dog_ids.append(img_id)\n",
    "\n",
    "print(f\"Selected {len(dog_ids)} dog images for test set D\")\n"
   ]
  },
  {
   "cell_type": "code",
   "execution_count": null,
   "metadata": {},
   "outputs": [
    {
     "name": "stdout",
     "output_type": "stream",
     "text": [
      "✅ Copied 101 images and masks to /home/scai/phd/aiz218323/scratch/abhishek_rl/scv/a5/processed_data/D\n"
     ]
    }
   ],
   "source": [
    "import shutil\n",
    "import os\n",
    "\n",
    "D_dir = \"/home/scai/phd/aiz218323/scratch/abhishek_rl/scv/a5/processed_data/D\"\n",
    "os.makedirs(D_dir + \"/images\", exist_ok=True)\n",
    "os.makedirs(D_dir + \"/masks\", exist_ok=True)\n",
    "\n",
    "for img_id in dog_ids:\n",
    "    img_src = base_path / f\"JPEGImages/{img_id}.jpg\"\n",
    "    mask_src = base_path / f\"SegmentationClass/{img_id}.png\"\n",
    "    \n",
    "    shutil.copy(img_src, f\"{D_dir}/images/{img_id}.jpg\")\n",
    "    shutil.copy(mask_src, f\"{D_dir}/masks/{img_id}.png\")\n",
    "\n",
    "print(f\"Copied {len(dog_ids)} images and masks to {D_dir}\")\n"
   ]
  }
 ],
 "metadata": {
  "kernelspec": {
   "display_name": "voc_env",
   "language": "python",
   "name": "python3"
  },
  "language_info": {
   "codemirror_mode": {
    "name": "ipython",
    "version": 3
   },
   "file_extension": ".py",
   "mimetype": "text/x-python",
   "name": "python",
   "nbconvert_exporter": "python",
   "pygments_lexer": "ipython3",
   "version": "3.9.21"
  }
 },
 "nbformat": 4,
 "nbformat_minor": 2
}
